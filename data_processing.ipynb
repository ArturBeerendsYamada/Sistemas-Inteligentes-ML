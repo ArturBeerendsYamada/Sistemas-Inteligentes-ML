{
 "cells": [
  {
   "cell_type": "code",
   "execution_count": 3,
   "id": "b395c14f",
   "metadata": {},
   "outputs": [
    {
     "name": "stdout",
     "output_type": "stream",
     "text": [
      "Successfully converted '/Users/lucanozzoli/UTFPR/sistemas_inteligentes/Sistemas-Inteligentes-ML/treino_sinais_vitais_com_label.txt' to '/Users/lucanozzoli/UTFPR/sistemas_inteligentes/Sistemas-Inteligentes-ML/treino_sinais_vitais_com_label.csv'\n"
     ]
    }
   ],
   "source": [
    "import csv\n",
    "\n",
    "def read_txt_as_csv(txt_filepath, csv_filepath):\n",
    "    \"\"\"\n",
    "    Reads a comma-separated .txt file and writes its content to a .csv file.\n",
    "\n",
    "    Args:\n",
    "        txt_filepath (str): The path to the input .txt file.\n",
    "        csv_filepath (str): The path to the output .csv file.\n",
    "    \"\"\"\n",
    "    try:\n",
    "        with open(txt_filepath, 'r') as infile, open(csv_filepath, 'w', newline='') as outfile:\n",
    "            reader = csv.reader(infile)\n",
    "            writer = csv.writer(outfile)\n",
    "            for row in reader:\n",
    "                writer.writerow(row)\n",
    "        print(f\"Successfully converted '{txt_filepath}' to '{csv_filepath}'\")\n",
    "    except FileNotFoundError:\n",
    "        print(f\"Error: File not found: '{txt_filepath}'\")\n",
    "    except Exception as e:\n",
    "         print(f\"An error occurred: {e}\")\n",
    "# Example usage:\n",
    "txt_file_path = '/Users/lucanozzoli/UTFPR/sistemas_inteligentes/Sistemas-Inteligentes-ML/treino_sinais_vitais_com_label.txt'\n",
    "csv_file_path = '/Users/lucanozzoli/UTFPR/sistemas_inteligentes/Sistemas-Inteligentes-ML/treino_sinais_vitais_com_label.csv'\n",
    "read_txt_as_csv(txt_file_path, csv_file_path)"
   ]
  },
  {
   "cell_type": "code",
   "execution_count": null,
   "id": "9482d174",
   "metadata": {},
   "outputs": [],
   "source": []
  },
  {
   "cell_type": "code",
   "execution_count": null,
   "id": "f6d8ae98",
   "metadata": {},
   "outputs": [],
   "source": [
    "my_data.txt'\n",
    "csv_file_path = 'my_data.csv'\n",
    "read_txt_as_csv(txt_file_path, csv_file_path)"
   ]
  }
 ],
 "metadata": {
  "kernelspec": {
   "display_name": "si_ml",
   "language": "python",
   "name": "python3"
  },
  "language_info": {
   "codemirror_mode": {
    "name": "ipython",
    "version": 3
   },
   "file_extension": ".py",
   "mimetype": "text/x-python",
   "name": "python",
   "nbconvert_exporter": "python",
   "pygments_lexer": "ipython3",
   "version": "3.9.6"
  }
 },
 "nbformat": 4,
 "nbformat_minor": 5
}
